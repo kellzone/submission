{
 "cells": [
  {
   "cell_type": "markdown",
   "id": "32b82daf",
   "metadata": {},
   "source": [
    "# My Jupyter Notebook on IBM Watson Studio"
   ]
  },
  {
   "cell_type": "markdown",
   "id": "7954e341",
   "metadata": {},
   "source": [
    "**Kellen Hardcastle**\n",
    "Pizza Delivery Boy"
   ]
  },
  {
   "cell_type": "markdown",
   "id": "cb016cf4",
   "metadata": {},
   "source": [
    "_I am interested in data science because I want to use it to make the world a better place. To act on problems, they must first be known._"
   ]
  },
  {
   "cell_type": "markdown",
   "id": "307bd17b",
   "metadata": {},
   "source": [
    "The code in the next cell runs the random math problem and prints the answer. It also returns the time it took to get the answer, which rounds down to zero in this case! I like using this elapsed time technique so you can compare the runtime of different code structures."
   ]
  },
  {
   "cell_type": "code",
   "execution_count": 9,
   "id": "f8939e7c",
   "metadata": {},
   "outputs": [
    {
     "name": "stdout",
     "output_type": "stream",
     "text": [
      "0.0 seconds\n",
      "3.6202490473730485e+24\n"
     ]
    }
   ],
   "source": [
    "import time\n",
    "start_time = time.time()\n",
    "ans = (1+(5000/8)*5792398475796878098897)\n",
    "\n",
    "end_time = time.time()\n",
    "elapsed_time = end_time - start_time\n",
    "print(elapsed_time, \"seconds\")\n",
    "print(ans)\n"
   ]
  },
  {
   "cell_type": "markdown",
   "id": "c6cbf69f",
   "metadata": {},
   "source": [
    "| Fun | on |\n",
    "| ------ | ------ |\n",
    "| a | bun |\n",
    "\n",
    "\n",
    "A...\n",
    "\n",
    "---\n",
    "\n",
    "Hori\n",
    "\n",
    "***\n",
    "\n",
    "zontal\n",
    "\n",
    "___\n",
    "\n",
    "rule\n",
    "\n",
    "\n",
    "> Blockquotes here\n",
    "\n",
    "Quote break!\n",
    "\n",
    "> Fuzzy Wuzzy was a bear. Fuzzy Wuzzy had no hair. Fuzzy Wuzzy wasn't very fuzzy, was he?!"
   ]
  },
  {
   "cell_type": "code",
   "execution_count": null,
   "id": "42b3f534",
   "metadata": {},
   "outputs": [],
   "source": []
  }
 ],
 "metadata": {
  "kernelspec": {
   "display_name": "Python 3 (ipykernel)",
   "language": "python",
   "name": "python3"
  },
  "language_info": {
   "codemirror_mode": {
    "name": "ipython",
    "version": 3
   },
   "file_extension": ".py",
   "mimetype": "text/x-python",
   "name": "python",
   "nbconvert_exporter": "python",
   "pygments_lexer": "ipython3",
   "version": "3.9.13"
  }
 },
 "nbformat": 4,
 "nbformat_minor": 5
}
